{
 "cells": [
  {
   "cell_type": "markdown",
   "id": "d587c2b9-2253-4d48-ae41-6f87957dbe61",
   "metadata": {},
   "source": [
    "# Spotify EDA"
   ]
  },
  {
   "cell_type": "code",
   "execution_count": 1,
   "id": "c9d7ebff-5004-45d9-aae6-3fb3f48a9e7e",
   "metadata": {},
   "outputs": [],
   "source": [
    "import pandas as pd\n",
    "import seaborn as sns\n",
    "import matplotlib.pyplot as plt"
   ]
  },
  {
   "cell_type": "markdown",
   "id": "e83566f7-0821-4ca9-8820-8ce1d599eba1",
   "metadata": {},
   "source": [
    "**Cargar los datos**"
   ]
  },
  {
   "cell_type": "code",
   "execution_count": 2,
   "id": "9c77d6e9-1340-4896-bc36-c810fffc377a",
   "metadata": {},
   "outputs": [],
   "source": [
    "spotify_df = pd.read_csv(\"../dataset/spotify_dataset.csv\")"
   ]
  },
  {
   "cell_type": "markdown",
   "id": "e2efc210-bb47-4ff5-9b60-b0515a55fa39",
   "metadata": {},
   "source": [
    "**Mostrar las primeras filas del DataFrame**"
   ]
  },
  {
   "cell_type": "code",
   "execution_count": 3,
   "id": "17497f77-8f43-4984-87e0-7662ca35cb24",
   "metadata": {},
   "outputs": [
    {
     "data": {
      "text/html": [
       "<div>\n",
       "<style scoped>\n",
       "    .dataframe tbody tr th:only-of-type {\n",
       "        vertical-align: middle;\n",
       "    }\n",
       "\n",
       "    .dataframe tbody tr th {\n",
       "        vertical-align: top;\n",
       "    }\n",
       "\n",
       "    .dataframe thead th {\n",
       "        text-align: right;\n",
       "    }\n",
       "</style>\n",
       "<table border=\"1\" class=\"dataframe\">\n",
       "  <thead>\n",
       "    <tr style=\"text-align: right;\">\n",
       "      <th></th>\n",
       "      <th>Unnamed: 0</th>\n",
       "      <th>track_id</th>\n",
       "      <th>artists</th>\n",
       "      <th>album_name</th>\n",
       "      <th>track_name</th>\n",
       "      <th>popularity</th>\n",
       "      <th>duration_ms</th>\n",
       "      <th>explicit</th>\n",
       "      <th>danceability</th>\n",
       "      <th>energy</th>\n",
       "      <th>...</th>\n",
       "      <th>loudness</th>\n",
       "      <th>mode</th>\n",
       "      <th>speechiness</th>\n",
       "      <th>acousticness</th>\n",
       "      <th>instrumentalness</th>\n",
       "      <th>liveness</th>\n",
       "      <th>valence</th>\n",
       "      <th>tempo</th>\n",
       "      <th>time_signature</th>\n",
       "      <th>track_genre</th>\n",
       "    </tr>\n",
       "  </thead>\n",
       "  <tbody>\n",
       "    <tr>\n",
       "      <th>0</th>\n",
       "      <td>0</td>\n",
       "      <td>5SuOikwiRyPMVoIQDJUgSV</td>\n",
       "      <td>Gen Hoshino</td>\n",
       "      <td>Comedy</td>\n",
       "      <td>Comedy</td>\n",
       "      <td>73</td>\n",
       "      <td>230666</td>\n",
       "      <td>False</td>\n",
       "      <td>0.676</td>\n",
       "      <td>0.4610</td>\n",
       "      <td>...</td>\n",
       "      <td>-6.746</td>\n",
       "      <td>0</td>\n",
       "      <td>0.1430</td>\n",
       "      <td>0.0322</td>\n",
       "      <td>0.000001</td>\n",
       "      <td>0.3580</td>\n",
       "      <td>0.715</td>\n",
       "      <td>87.917</td>\n",
       "      <td>4</td>\n",
       "      <td>acoustic</td>\n",
       "    </tr>\n",
       "    <tr>\n",
       "      <th>1</th>\n",
       "      <td>1</td>\n",
       "      <td>4qPNDBW1i3p13qLCt0Ki3A</td>\n",
       "      <td>Ben Woodward</td>\n",
       "      <td>Ghost (Acoustic)</td>\n",
       "      <td>Ghost - Acoustic</td>\n",
       "      <td>55</td>\n",
       "      <td>149610</td>\n",
       "      <td>False</td>\n",
       "      <td>0.420</td>\n",
       "      <td>0.1660</td>\n",
       "      <td>...</td>\n",
       "      <td>-17.235</td>\n",
       "      <td>1</td>\n",
       "      <td>0.0763</td>\n",
       "      <td>0.9240</td>\n",
       "      <td>0.000006</td>\n",
       "      <td>0.1010</td>\n",
       "      <td>0.267</td>\n",
       "      <td>77.489</td>\n",
       "      <td>4</td>\n",
       "      <td>acoustic</td>\n",
       "    </tr>\n",
       "    <tr>\n",
       "      <th>2</th>\n",
       "      <td>2</td>\n",
       "      <td>1iJBSr7s7jYXzM8EGcbK5b</td>\n",
       "      <td>Ingrid Michaelson;ZAYN</td>\n",
       "      <td>To Begin Again</td>\n",
       "      <td>To Begin Again</td>\n",
       "      <td>57</td>\n",
       "      <td>210826</td>\n",
       "      <td>False</td>\n",
       "      <td>0.438</td>\n",
       "      <td>0.3590</td>\n",
       "      <td>...</td>\n",
       "      <td>-9.734</td>\n",
       "      <td>1</td>\n",
       "      <td>0.0557</td>\n",
       "      <td>0.2100</td>\n",
       "      <td>0.000000</td>\n",
       "      <td>0.1170</td>\n",
       "      <td>0.120</td>\n",
       "      <td>76.332</td>\n",
       "      <td>4</td>\n",
       "      <td>acoustic</td>\n",
       "    </tr>\n",
       "    <tr>\n",
       "      <th>3</th>\n",
       "      <td>3</td>\n",
       "      <td>6lfxq3CG4xtTiEg7opyCyx</td>\n",
       "      <td>Kina Grannis</td>\n",
       "      <td>Crazy Rich Asians (Original Motion Picture Sou...</td>\n",
       "      <td>Can't Help Falling In Love</td>\n",
       "      <td>71</td>\n",
       "      <td>201933</td>\n",
       "      <td>False</td>\n",
       "      <td>0.266</td>\n",
       "      <td>0.0596</td>\n",
       "      <td>...</td>\n",
       "      <td>-18.515</td>\n",
       "      <td>1</td>\n",
       "      <td>0.0363</td>\n",
       "      <td>0.9050</td>\n",
       "      <td>0.000071</td>\n",
       "      <td>0.1320</td>\n",
       "      <td>0.143</td>\n",
       "      <td>181.740</td>\n",
       "      <td>3</td>\n",
       "      <td>acoustic</td>\n",
       "    </tr>\n",
       "    <tr>\n",
       "      <th>4</th>\n",
       "      <td>4</td>\n",
       "      <td>5vjLSffimiIP26QG5WcN2K</td>\n",
       "      <td>Chord Overstreet</td>\n",
       "      <td>Hold On</td>\n",
       "      <td>Hold On</td>\n",
       "      <td>82</td>\n",
       "      <td>198853</td>\n",
       "      <td>False</td>\n",
       "      <td>0.618</td>\n",
       "      <td>0.4430</td>\n",
       "      <td>...</td>\n",
       "      <td>-9.681</td>\n",
       "      <td>1</td>\n",
       "      <td>0.0526</td>\n",
       "      <td>0.4690</td>\n",
       "      <td>0.000000</td>\n",
       "      <td>0.0829</td>\n",
       "      <td>0.167</td>\n",
       "      <td>119.949</td>\n",
       "      <td>4</td>\n",
       "      <td>acoustic</td>\n",
       "    </tr>\n",
       "  </tbody>\n",
       "</table>\n",
       "<p>5 rows × 21 columns</p>\n",
       "</div>"
      ],
      "text/plain": [
       "   Unnamed: 0                track_id                 artists  \\\n",
       "0           0  5SuOikwiRyPMVoIQDJUgSV             Gen Hoshino   \n",
       "1           1  4qPNDBW1i3p13qLCt0Ki3A            Ben Woodward   \n",
       "2           2  1iJBSr7s7jYXzM8EGcbK5b  Ingrid Michaelson;ZAYN   \n",
       "3           3  6lfxq3CG4xtTiEg7opyCyx            Kina Grannis   \n",
       "4           4  5vjLSffimiIP26QG5WcN2K        Chord Overstreet   \n",
       "\n",
       "                                          album_name  \\\n",
       "0                                             Comedy   \n",
       "1                                   Ghost (Acoustic)   \n",
       "2                                     To Begin Again   \n",
       "3  Crazy Rich Asians (Original Motion Picture Sou...   \n",
       "4                                            Hold On   \n",
       "\n",
       "                   track_name  popularity  duration_ms  explicit  \\\n",
       "0                      Comedy          73       230666     False   \n",
       "1            Ghost - Acoustic          55       149610     False   \n",
       "2              To Begin Again          57       210826     False   \n",
       "3  Can't Help Falling In Love          71       201933     False   \n",
       "4                     Hold On          82       198853     False   \n",
       "\n",
       "   danceability  energy  ...  loudness  mode  speechiness  acousticness  \\\n",
       "0         0.676  0.4610  ...    -6.746     0       0.1430        0.0322   \n",
       "1         0.420  0.1660  ...   -17.235     1       0.0763        0.9240   \n",
       "2         0.438  0.3590  ...    -9.734     1       0.0557        0.2100   \n",
       "3         0.266  0.0596  ...   -18.515     1       0.0363        0.9050   \n",
       "4         0.618  0.4430  ...    -9.681     1       0.0526        0.4690   \n",
       "\n",
       "   instrumentalness  liveness  valence    tempo  time_signature  track_genre  \n",
       "0          0.000001    0.3580    0.715   87.917               4     acoustic  \n",
       "1          0.000006    0.1010    0.267   77.489               4     acoustic  \n",
       "2          0.000000    0.1170    0.120   76.332               4     acoustic  \n",
       "3          0.000071    0.1320    0.143  181.740               3     acoustic  \n",
       "4          0.000000    0.0829    0.167  119.949               4     acoustic  \n",
       "\n",
       "[5 rows x 21 columns]"
      ]
     },
     "execution_count": 3,
     "metadata": {},
     "output_type": "execute_result"
    }
   ],
   "source": [
    "spotify_df.head()"
   ]
  },
  {
   "cell_type": "markdown",
   "id": "b940fb88-db65-4683-af80-69e8006629c5",
   "metadata": {},
   "source": [
    "**Verificar las dimensiones del DataFrame**"
   ]
  },
  {
   "cell_type": "code",
   "execution_count": 4,
   "id": "d825593d-461f-4e3c-8429-b9b7b9ca510c",
   "metadata": {},
   "outputs": [
    {
     "data": {
      "text/plain": [
       "(114000, 21)"
      ]
     },
     "execution_count": 4,
     "metadata": {},
     "output_type": "execute_result"
    }
   ],
   "source": [
    "spotify_df.shape"
   ]
  },
  {
   "cell_type": "markdown",
   "id": "471b868f-a3ec-4cdf-972d-d0d95b65a03d",
   "metadata": {},
   "source": [
    "El tamaño de nuestro conjunto de datos es de 114,000 canciones, y consta de 21 atributos. "
   ]
  },
  {
   "cell_type": "markdown",
   "id": "3e688073-62a5-4b2c-8a27-5ebcc19fdfaf",
   "metadata": {},
   "source": [
    "**Exploración de Tipos de Datos**"
   ]
  },
  {
   "cell_type": "code",
   "execution_count": 6,
   "id": "6a93886b-5b6a-4021-a166-a907fda6e3f1",
   "metadata": {},
   "outputs": [
    {
     "name": "stdout",
     "output_type": "stream",
     "text": [
      "<class 'pandas.core.frame.DataFrame'>\n",
      "RangeIndex: 114000 entries, 0 to 113999\n",
      "Data columns (total 21 columns):\n",
      " #   Column            Non-Null Count   Dtype  \n",
      "---  ------            --------------   -----  \n",
      " 0   Unnamed: 0        114000 non-null  int64  \n",
      " 1   track_id          114000 non-null  object \n",
      " 2   artists           113999 non-null  object \n",
      " 3   album_name        113999 non-null  object \n",
      " 4   track_name        113999 non-null  object \n",
      " 5   popularity        114000 non-null  int64  \n",
      " 6   duration_ms       114000 non-null  int64  \n",
      " 7   explicit          114000 non-null  bool   \n",
      " 8   danceability      114000 non-null  float64\n",
      " 9   energy            114000 non-null  float64\n",
      " 10  key               114000 non-null  int64  \n",
      " 11  loudness          114000 non-null  float64\n",
      " 12  mode              114000 non-null  int64  \n",
      " 13  speechiness       114000 non-null  float64\n",
      " 14  acousticness      114000 non-null  float64\n",
      " 15  instrumentalness  114000 non-null  float64\n",
      " 16  liveness          114000 non-null  float64\n",
      " 17  valence           114000 non-null  float64\n",
      " 18  tempo             114000 non-null  float64\n",
      " 19  time_signature    114000 non-null  int64  \n",
      " 20  track_genre       114000 non-null  object \n",
      "dtypes: bool(1), float64(9), int64(6), object(5)\n",
      "memory usage: 17.5+ MB\n"
     ]
    }
   ],
   "source": [
    "spotify_df.info()"
   ]
  },
  {
   "cell_type": "markdown",
   "id": "facb9aed-7e5f-4039-930d-26a562d7c358",
   "metadata": {},
   "source": [
    "**Investigación de Valores Nulos**"
   ]
  },
  {
   "cell_type": "code",
   "execution_count": 5,
   "id": "9d9e77af-e51f-46c6-828d-339af0a4c786",
   "metadata": {},
   "outputs": [
    {
     "data": {
      "image/png": "[encoded data removed]",
      "text/plain": [
       "<Figure size 640x480 with 1 Axes>"
      ]
     },
     "metadata": {},
     "output_type": "display_data"
    }
   ],
   "source": [
    "missing_ratios = spotify_df.apply(lambda x: 1 - (x.count() / x.size))\n",
    "missing_ratios = missing_ratios.sort_values(ascending=False)\n",
    "\n",
    "sns.set_theme()\n",
    "\n",
    "sns.set_color_codes(\"pastel\")\n",
    "sns.barplot(x=missing_ratios, y=missing_ratios.index,\n",
    "            label=\"Tasa de Datos Faltantes\", color=\"red\", alpha=0.5)\n",
    "\n",
    "plt.legend(ncol=1, loc=\"lower right\", frameon=True)\n",
    "plt.xlim(0, 1)\n",
    "plt.xlabel(\"Missing Data Ratio\")\n",
    "plt.ylabel(\"\")\n",
    "plt.title(\"Análisis de Datos Faltantes\")\n",
    "sns.despine(left=True, bottom=True)\n",
    "plt.show()"
   ]
  },
  {
   "cell_type": "markdown",
   "id": "84fe3f83-b439-4132-a040-0e67ea5f7649",
   "metadata": {},
   "source": [
    " Esto sugiere que nuestros datos están completos y no requerirán un tratamiento especial para manejar valores faltantes."
   ]
  },
  {
   "cell_type": "markdown",
   "id": "dac8931b-f516-4453-9ed2-c023457bfa3c",
   "metadata": {},
   "source": [
    "**Número de Duplicados en el DataFrame**"
   ]
  },
  {
   "cell_type": "code",
   "execution_count": 6,
   "id": "9f6c087e-bf60-492a-a0f4-80e8b133dd6d",
   "metadata": {},
   "outputs": [
    {
     "data": {
      "text/plain": [
       "0"
      ]
     },
     "execution_count": 6,
     "metadata": {},
     "output_type": "execute_result"
    }
   ],
   "source": [
    "spotify_df.duplicated().sum()"
   ]
  },
  {
   "cell_type": "markdown",
   "id": "3c6f2334-1d53-4922-bd02-da1fb0d11441",
   "metadata": {},
   "source": [
    "A pesar de la ausencia de datos duplicados, no se puede asegurar que no existan canciones repetidas en el conjunto de datos."
   ]
  },
  {
   "cell_type": "markdown",
   "id": "86fd0d90-b3c9-4c05-81bd-5bd8fc900290",
   "metadata": {},
   "source": [
    "**track_id**"
   ]
  },
  {
   "cell_type": "code",
   "execution_count": 7,
   "id": "846f0458-a295-4cb2-b3fb-9c22aad94875",
   "metadata": {},
   "outputs": [
    {
     "data": {
      "text/plain": [
       "24259"
      ]
     },
     "execution_count": 7,
     "metadata": {},
     "output_type": "execute_result"
    }
   ],
   "source": [
    "spotify_df.duplicated(subset=['track_id']).sum()"
   ]
  },
  {
   "cell_type": "markdown",
   "id": "776e357b-8e9e-4e10-a88c-396a60f92044",
   "metadata": {},
   "source": [
    "Se han identificado 24,259 canciones con el mismo `track_id`,  y han sido eliminadas del conjunto de datos."
   ]
  },
  {
   "cell_type": "code",
   "execution_count": 8,
   "id": "9476d69e-2b5a-4f92-9b15-213035b30266",
   "metadata": {},
   "outputs": [
    {
     "data": {
      "text/plain": [
       "(89741, 21)"
      ]
     },
     "execution_count": 8,
     "metadata": {},
     "output_type": "execute_result"
    }
   ],
   "source": [
    "spotify_df = spotify_df.drop_duplicates(subset=\"track_id\", keep='first', inplace=False)\n",
    "spotify_df.shape"
   ]
  },
  {
   "cell_type": "markdown",
   "id": "cec6c02b-f4a4-4247-8101-df3ca8a6d111",
   "metadata": {},
   "source": [
    "**track_name**"
   ]
  },
  {
   "cell_type": "code",
   "execution_count": 9,
   "id": "b0c398ac-30ff-480a-97d0-7fad2af3fde8",
   "metadata": {},
   "outputs": [
    {
     "data": {
      "text/plain": [
       "16132"
      ]
     },
     "execution_count": 9,
     "metadata": {},
     "output_type": "execute_result"
    }
   ],
   "source": [
    "spotify_df.duplicated(subset=['track_name']).sum()"
   ]
  },
  {
   "cell_type": "markdown",
   "id": "a761cdc5-e7ee-42f6-ac22-5204eb8e0b81",
   "metadata": {},
   "source": [
    "Además, hemos identificado un total de 16,132 canciones con el mismo nombre en nuestro conjunto de datos. Esto es una observación común, ya que diferentes artistas pueden tener canciones con nombres similares. Para comprender mejor esta situación y determinar si es necesario tomar alguna acción, realizaremos un análisis adicional para agrupar estas canciones por nombre y verificar cuántas de ellas son interpretadas por artistas diferentes. "
   ]
  },
  {
   "cell_type": "code",
   "execution_count": 10,
   "id": "58a3b779-d808-4e2f-8a1f-8cb0e4486559",
   "metadata": {},
   "outputs": [
    {
     "data": {
      "text/plain": [
       "(81206, 3)"
      ]
     },
     "execution_count": 10,
     "metadata": {},
     "output_type": "execute_result"
    }
   ],
   "source": [
    "spotify_df.loc[:, 'track_name'] = spotify_df['track_name'].str.lower()\n",
    "grouped_df = spotify_df.groupby(['track_name', 'artists']).size().reset_index(name='count')\n",
    "grouped_df.sort_values(by = 'count', ascending= False).shape"
   ]
  },
  {
   "cell_type": "markdown",
   "id": "0021ab99-11ff-4624-bedc-c6eb6ccfdd6d",
   "metadata": {},
   "source": [
    "Después de agrupar canciones por nombre de pista y artistas, encontramos 81,206 combinaciones únicas."
   ]
  },
  {
   "cell_type": "markdown",
   "id": "01033707-220a-46ef-9166-b2de38d3a35a",
   "metadata": {},
   "source": [
    "**track_genre**"
   ]
  },
  {
   "cell_type": "code",
   "execution_count": 25,
   "id": "13f7a75f-57b6-4a39-9519-4924baf3cb9e",
   "metadata": {},
   "outputs": [
    {
     "data": {
      "text/plain": [
       "113"
      ]
     },
     "execution_count": 25,
     "metadata": {},
     "output_type": "execute_result"
    }
   ],
   "source": [
    "spotify_df['track_genre'].nunique()"
   ]
  },
  {
   "cell_type": "markdown",
   "id": "72c38d13-85c0-4ac5-bbfd-00aad578fa2f",
   "metadata": {},
   "source": [
    "Hay un total de 113 géneros musicales únicos en nuestro conjunto de datos, lo que sugiere que podríamos considerar realizar agrupaciones en esta variable para facilitar el análisis"
   ]
  },
  {
   "cell_type": "markdown",
   "id": "fd140658-6c85-4479-8473-2a4056dde6d9",
   "metadata": {},
   "source": [
    "**duration_ms**"
   ]
  },
  {
   "cell_type": "code",
   "execution_count": 31,
   "id": "d92dd13a-3579-49f5-ac90-4d72fba355ec",
   "metadata": {},
   "outputs": [
    {
     "data": {
      "text/plain": [
       "<Axes: >"
      ]
     },
     "execution_count": 31,
     "metadata": {},
     "output_type": "execute_result"
    },
    {
     "data": {
      "image/png": "[encoded data removed]",
      "text/plain": [
       "<Figure size 640x480 with 1 Axes>"
      ]
     },
     "metadata": {},
     "output_type": "display_data"
    }
   ],
   "source": [
    "spotify_df.boxplot(column='duration_ms')"
   ]
  },
  {
   "cell_type": "markdown",
   "id": "5228dd99-96dd-4b50-8d8d-71bbe2f8c5f6",
   "metadata": {},
   "source": [
    "Revela bastantes valores atípicos en la duración de las canciones, con la consideración de que la duración está en milisegundos (ms). Para una representación más intuitiva, se realizara la transformación de esta medida a segundos (s)."
   ]
  },
  {
   "cell_type": "markdown",
   "id": "0b79005b-43c9-4b22-a829-6923d69fa249",
   "metadata": {},
   "source": [
    "**artists**"
   ]
  },
  {
   "cell_type": "code",
   "execution_count": 11,
   "id": "eae98796-c0ec-4c43-82d5-6d339064a04b",
   "metadata": {},
   "outputs": [
    {
     "data": {
      "text/plain": [
       "31437"
      ]
     },
     "execution_count": 11,
     "metadata": {},
     "output_type": "execute_result"
    }
   ],
   "source": [
    "spotify_df['artists'].nunique()"
   ]
  },
  {
   "cell_type": "code",
   "execution_count": 40,
   "id": "67b05018-f0ff-4295-9679-873582baf005",
   "metadata": {},
   "outputs": [
    {
     "data": {
      "text/html": [
       "<div>\n",
       "<style scoped>\n",
       "    .dataframe tbody tr th:only-of-type {\n",
       "        vertical-align: middle;\n",
       "    }\n",
       "\n",
       "    .dataframe tbody tr th {\n",
       "        vertical-align: top;\n",
       "    }\n",
       "\n",
       "    .dataframe thead th {\n",
       "        text-align: right;\n",
       "    }\n",
       "</style>\n",
       "<table border=\"1\" class=\"dataframe\">\n",
       "  <thead>\n",
       "    <tr style=\"text-align: right;\">\n",
       "      <th></th>\n",
       "      <th>track_name</th>\n",
       "      <th>artists</th>\n",
       "    </tr>\n",
       "  </thead>\n",
       "  <tbody>\n",
       "    <tr>\n",
       "      <th>16078</th>\n",
       "      <td>brandenburg concerto no. 3 in g, bwv 1048: 1. ...</td>\n",
       "      <td>Johann Sebastian Bach;Berliner Philharmoniker;...</td>\n",
       "    </tr>\n",
       "    <tr>\n",
       "      <th>59300</th>\n",
       "      <td>beyond</td>\n",
       "      <td>Saeed Dehghan;Rez</td>\n",
       "    </tr>\n",
       "    <tr>\n",
       "      <th>20065</th>\n",
       "      <td>skate</td>\n",
       "      <td>Bruno Mars;Anderson .Paak;Silk Sonic</td>\n",
       "    </tr>\n",
       "    <tr>\n",
       "      <th>31310</th>\n",
       "      <td>will it ever feel the same?</td>\n",
       "      <td>Bazzi</td>\n",
       "    </tr>\n",
       "    <tr>\n",
       "      <th>61674</th>\n",
       "      <td>party maker</td>\n",
       "      <td>Perfume</td>\n",
       "    </tr>\n",
       "  </tbody>\n",
       "</table>\n",
       "</div>"
      ],
      "text/plain": [
       "                                              track_name  \\\n",
       "16078  brandenburg concerto no. 3 in g, bwv 1048: 1. ...   \n",
       "59300                                             beyond   \n",
       "20065                                              skate   \n",
       "31310                        will it ever feel the same?   \n",
       "61674                                        party maker   \n",
       "\n",
       "                                                 artists  \n",
       "16078  Johann Sebastian Bach;Berliner Philharmoniker;...  \n",
       "59300                                  Saeed Dehghan;Rez  \n",
       "20065               Bruno Mars;Anderson .Paak;Silk Sonic  \n",
       "31310                                              Bazzi  \n",
       "61674                                            Perfume  "
      ]
     },
     "execution_count": 40,
     "metadata": {},
     "output_type": "execute_result"
    }
   ],
   "source": [
    "spotify_df[['track_name','artists']].sample(5)"
   ]
  },
  {
   "cell_type": "markdown",
   "id": "6e039a1f-4eb6-4fb0-bea0-5160493e35c5",
   "metadata": {},
   "source": [
    "Hay un total de 31,437 artistas únicos en nuestro conjunto de datos. Sin embargo, es importante destacar que algunas canciones cuentan con múltiples artistas. En este análisis, se opta por conservar solo el primer artista listado en cada canción como representación de la autoría principal."
   ]
  },
  {
   "cell_type": "markdown",
   "id": "fdb4d0f5-aeca-4542-abbe-0ee0088d5054",
   "metadata": {},
   "source": [
    "**Resumen Estadístico**"
   ]
  },
  {
   "cell_type": "code",
   "execution_count": 27,
   "id": "22800688-9ae6-418e-af60-8b6832b9da74",
   "metadata": {},
   "outputs": [
    {
     "data": {
      "text/html": [
       "<div>\n",
       "<style scoped>\n",
       "    .dataframe tbody tr th:only-of-type {\n",
       "        vertical-align: middle;\n",
       "    }\n",
       "\n",
       "    .dataframe tbody tr th {\n",
       "        vertical-align: top;\n",
       "    }\n",
       "\n",
       "    .dataframe thead th {\n",
       "        text-align: right;\n",
       "    }\n",
       "</style>\n",
       "<table border=\"1\" class=\"dataframe\">\n",
       "  <thead>\n",
       "    <tr style=\"text-align: right;\">\n",
       "      <th></th>\n",
       "      <th>count</th>\n",
       "      <th>mean</th>\n",
       "      <th>std</th>\n",
       "      <th>min</th>\n",
       "      <th>25%</th>\n",
       "      <th>50%</th>\n",
       "      <th>75%</th>\n",
       "      <th>max</th>\n",
       "    </tr>\n",
       "  </thead>\n",
       "  <tbody>\n",
       "    <tr>\n",
       "      <th>Unnamed: 0</th>\n",
       "      <td>89741.0</td>\n",
       "      <td>53479.144148</td>\n",
       "      <td>33409.981502</td>\n",
       "      <td>0.000</td>\n",
       "      <td>23767.0000</td>\n",
       "      <td>50681.000000</td>\n",
       "      <td>80618.0000</td>\n",
       "      <td>113999.000</td>\n",
       "    </tr>\n",
       "    <tr>\n",
       "      <th>popularity</th>\n",
       "      <td>89741.0</td>\n",
       "      <td>33.198438</td>\n",
       "      <td>20.580824</td>\n",
       "      <td>0.000</td>\n",
       "      <td>19.0000</td>\n",
       "      <td>33.000000</td>\n",
       "      <td>49.0000</td>\n",
       "      <td>100.000</td>\n",
       "    </tr>\n",
       "    <tr>\n",
       "      <th>duration_ms</th>\n",
       "      <td>89741.0</td>\n",
       "      <td>229141.812182</td>\n",
       "      <td>112947.741190</td>\n",
       "      <td>0.000</td>\n",
       "      <td>173040.0000</td>\n",
       "      <td>213293.000000</td>\n",
       "      <td>264293.0000</td>\n",
       "      <td>5237295.000</td>\n",
       "    </tr>\n",
       "    <tr>\n",
       "      <th>danceability</th>\n",
       "      <td>89741.0</td>\n",
       "      <td>0.562166</td>\n",
       "      <td>0.176691</td>\n",
       "      <td>0.000</td>\n",
       "      <td>0.4500</td>\n",
       "      <td>0.576000</td>\n",
       "      <td>0.6920</td>\n",
       "      <td>0.985</td>\n",
       "    </tr>\n",
       "    <tr>\n",
       "      <th>energy</th>\n",
       "      <td>89741.0</td>\n",
       "      <td>0.634458</td>\n",
       "      <td>0.256605</td>\n",
       "      <td>0.000</td>\n",
       "      <td>0.4570</td>\n",
       "      <td>0.676000</td>\n",
       "      <td>0.8530</td>\n",
       "      <td>1.000</td>\n",
       "    </tr>\n",
       "    <tr>\n",
       "      <th>key</th>\n",
       "      <td>89741.0</td>\n",
       "      <td>5.283549</td>\n",
       "      <td>3.559897</td>\n",
       "      <td>0.000</td>\n",
       "      <td>2.0000</td>\n",
       "      <td>5.000000</td>\n",
       "      <td>8.0000</td>\n",
       "      <td>11.000</td>\n",
       "    </tr>\n",
       "    <tr>\n",
       "      <th>loudness</th>\n",
       "      <td>89741.0</td>\n",
       "      <td>-8.499004</td>\n",
       "      <td>5.221490</td>\n",
       "      <td>-49.531</td>\n",
       "      <td>-10.3220</td>\n",
       "      <td>-7.185000</td>\n",
       "      <td>-5.1080</td>\n",
       "      <td>4.532</td>\n",
       "    </tr>\n",
       "    <tr>\n",
       "      <th>mode</th>\n",
       "      <td>89741.0</td>\n",
       "      <td>0.636966</td>\n",
       "      <td>0.480877</td>\n",
       "      <td>0.000</td>\n",
       "      <td>0.0000</td>\n",
       "      <td>1.000000</td>\n",
       "      <td>1.0000</td>\n",
       "      <td>1.000</td>\n",
       "    </tr>\n",
       "    <tr>\n",
       "      <th>speechiness</th>\n",
       "      <td>89741.0</td>\n",
       "      <td>0.087442</td>\n",
       "      <td>0.113277</td>\n",
       "      <td>0.000</td>\n",
       "      <td>0.0360</td>\n",
       "      <td>0.048900</td>\n",
       "      <td>0.0859</td>\n",
       "      <td>0.965</td>\n",
       "    </tr>\n",
       "    <tr>\n",
       "      <th>acousticness</th>\n",
       "      <td>89741.0</td>\n",
       "      <td>0.328289</td>\n",
       "      <td>0.338321</td>\n",
       "      <td>0.000</td>\n",
       "      <td>0.0171</td>\n",
       "      <td>0.188000</td>\n",
       "      <td>0.6250</td>\n",
       "      <td>0.996</td>\n",
       "    </tr>\n",
       "    <tr>\n",
       "      <th>instrumentalness</th>\n",
       "      <td>89741.0</td>\n",
       "      <td>0.173413</td>\n",
       "      <td>0.323848</td>\n",
       "      <td>0.000</td>\n",
       "      <td>0.0000</td>\n",
       "      <td>0.000058</td>\n",
       "      <td>0.0976</td>\n",
       "      <td>1.000</td>\n",
       "    </tr>\n",
       "    <tr>\n",
       "      <th>liveness</th>\n",
       "      <td>89741.0</td>\n",
       "      <td>0.216970</td>\n",
       "      <td>0.194884</td>\n",
       "      <td>0.000</td>\n",
       "      <td>0.0982</td>\n",
       "      <td>0.132000</td>\n",
       "      <td>0.2790</td>\n",
       "      <td>1.000</td>\n",
       "    </tr>\n",
       "    <tr>\n",
       "      <th>valence</th>\n",
       "      <td>89741.0</td>\n",
       "      <td>0.469477</td>\n",
       "      <td>0.262864</td>\n",
       "      <td>0.000</td>\n",
       "      <td>0.2490</td>\n",
       "      <td>0.457000</td>\n",
       "      <td>0.6820</td>\n",
       "      <td>0.995</td>\n",
       "    </tr>\n",
       "    <tr>\n",
       "      <th>tempo</th>\n",
       "      <td>89741.0</td>\n",
       "      <td>122.058316</td>\n",
       "      <td>30.117532</td>\n",
       "      <td>0.000</td>\n",
       "      <td>99.2640</td>\n",
       "      <td>122.013000</td>\n",
       "      <td>140.0770</td>\n",
       "      <td>243.372</td>\n",
       "    </tr>\n",
       "    <tr>\n",
       "      <th>time_signature</th>\n",
       "      <td>89741.0</td>\n",
       "      <td>3.897427</td>\n",
       "      <td>0.453435</td>\n",
       "      <td>0.000</td>\n",
       "      <td>4.0000</td>\n",
       "      <td>4.000000</td>\n",
       "      <td>4.0000</td>\n",
       "      <td>5.000</td>\n",
       "    </tr>\n",
       "  </tbody>\n",
       "</table>\n",
       "</div>"
      ],
      "text/plain": [
       "                    count           mean            std     min          25%  \\\n",
       "Unnamed: 0        89741.0   53479.144148   33409.981502   0.000   23767.0000   \n",
       "popularity        89741.0      33.198438      20.580824   0.000      19.0000   \n",
       "duration_ms       89741.0  229141.812182  112947.741190   0.000  173040.0000   \n",
       "danceability      89741.0       0.562166       0.176691   0.000       0.4500   \n",
       "energy            89741.0       0.634458       0.256605   0.000       0.4570   \n",
       "key               89741.0       5.283549       3.559897   0.000       2.0000   \n",
       "loudness          89741.0      -8.499004       5.221490 -49.531     -10.3220   \n",
       "mode              89741.0       0.636966       0.480877   0.000       0.0000   \n",
       "speechiness       89741.0       0.087442       0.113277   0.000       0.0360   \n",
       "acousticness      89741.0       0.328289       0.338321   0.000       0.0171   \n",
       "instrumentalness  89741.0       0.173413       0.323848   0.000       0.0000   \n",
       "liveness          89741.0       0.216970       0.194884   0.000       0.0982   \n",
       "valence           89741.0       0.469477       0.262864   0.000       0.2490   \n",
       "tempo             89741.0     122.058316      30.117532   0.000      99.2640   \n",
       "time_signature    89741.0       3.897427       0.453435   0.000       4.0000   \n",
       "\n",
       "                            50%          75%          max  \n",
       "Unnamed: 0         50681.000000   80618.0000   113999.000  \n",
       "popularity            33.000000      49.0000      100.000  \n",
       "duration_ms       213293.000000  264293.0000  5237295.000  \n",
       "danceability           0.576000       0.6920        0.985  \n",
       "energy                 0.676000       0.8530        1.000  \n",
       "key                    5.000000       8.0000       11.000  \n",
       "loudness              -7.185000      -5.1080        4.532  \n",
       "mode                   1.000000       1.0000        1.000  \n",
       "speechiness            0.048900       0.0859        0.965  \n",
       "acousticness           0.188000       0.6250        0.996  \n",
       "instrumentalness       0.000058       0.0976        1.000  \n",
       "liveness               0.132000       0.2790        1.000  \n",
       "valence                0.457000       0.6820        0.995  \n",
       "tempo                122.013000     140.0770      243.372  \n",
       "time_signature         4.000000       4.0000        5.000  "
      ]
     },
     "execution_count": 27,
     "metadata": {},
     "output_type": "execute_result"
    }
   ],
   "source": [
    "spotify_df.describe().transpose()"
   ]
  },
  {
   "cell_type": "markdown",
   "id": "3209ceb6-92ed-424c-bd46-6c9901ef93e0",
   "metadata": {},
   "source": [
    "Una observación destacada es que al menos una canción tiene una duración de 0."
   ]
  },
  {
   "cell_type": "code",
   "execution_count": 29,
   "id": "e0837809-0a5f-40cf-8be7-6cca1cebd42f",
   "metadata": {},
   "outputs": [
    {
     "data": {
      "text/html": [
       "<div>\n",
       "<style scoped>\n",
       "    .dataframe tbody tr th:only-of-type {\n",
       "        vertical-align: middle;\n",
       "    }\n",
       "\n",
       "    .dataframe tbody tr th {\n",
       "        vertical-align: top;\n",
       "    }\n",
       "\n",
       "    .dataframe thead th {\n",
       "        text-align: right;\n",
       "    }\n",
       "</style>\n",
       "<table border=\"1\" class=\"dataframe\">\n",
       "  <thead>\n",
       "    <tr style=\"text-align: right;\">\n",
       "      <th></th>\n",
       "      <th>Unnamed: 0</th>\n",
       "      <th>track_id</th>\n",
       "      <th>artists</th>\n",
       "      <th>album_name</th>\n",
       "      <th>track_name</th>\n",
       "      <th>popularity</th>\n",
       "      <th>duration_ms</th>\n",
       "      <th>explicit</th>\n",
       "      <th>danceability</th>\n",
       "      <th>energy</th>\n",
       "      <th>...</th>\n",
       "      <th>loudness</th>\n",
       "      <th>mode</th>\n",
       "      <th>speechiness</th>\n",
       "      <th>acousticness</th>\n",
       "      <th>instrumentalness</th>\n",
       "      <th>liveness</th>\n",
       "      <th>valence</th>\n",
       "      <th>tempo</th>\n",
       "      <th>time_signature</th>\n",
       "      <th>track_genre</th>\n",
       "    </tr>\n",
       "  </thead>\n",
       "  <tbody>\n",
       "    <tr>\n",
       "      <th>65900</th>\n",
       "      <td>65900</td>\n",
       "      <td>1kR4gIb7nGxHPI3D2ifs59</td>\n",
       "      <td>NaN</td>\n",
       "      <td>NaN</td>\n",
       "      <td>NaN</td>\n",
       "      <td>0</td>\n",
       "      <td>0</td>\n",
       "      <td>False</td>\n",
       "      <td>0.501</td>\n",
       "      <td>0.583</td>\n",
       "      <td>...</td>\n",
       "      <td>-9.46</td>\n",
       "      <td>0</td>\n",
       "      <td>0.0605</td>\n",
       "      <td>0.69</td>\n",
       "      <td>0.00396</td>\n",
       "      <td>0.0747</td>\n",
       "      <td>0.734</td>\n",
       "      <td>138.391</td>\n",
       "      <td>4</td>\n",
       "      <td>k-pop</td>\n",
       "    </tr>\n",
       "  </tbody>\n",
       "</table>\n",
       "<p>1 rows × 21 columns</p>\n",
       "</div>"
      ],
      "text/plain": [
       "       Unnamed: 0                track_id artists album_name track_name  \\\n",
       "65900       65900  1kR4gIb7nGxHPI3D2ifs59     NaN        NaN        NaN   \n",
       "\n",
       "       popularity  duration_ms  explicit  danceability  energy  ...  loudness  \\\n",
       "65900           0            0     False         0.501   0.583  ...     -9.46   \n",
       "\n",
       "       mode  speechiness  acousticness  instrumentalness  liveness  valence  \\\n",
       "65900     0       0.0605          0.69           0.00396    0.0747    0.734   \n",
       "\n",
       "         tempo  time_signature  track_genre  \n",
       "65900  138.391               4        k-pop  \n",
       "\n",
       "[1 rows x 21 columns]"
      ]
     },
     "execution_count": 29,
     "metadata": {},
     "output_type": "execute_result"
    }
   ],
   "source": [
    "spotify_df[spotify_df['duration_ms'] == 0]"
   ]
  }
 ],
 "metadata": {
  "kernelspec": {
   "display_name": "Python 3 (ipykernel)",
   "language": "python",
   "name": "python3"
  },
  "language_info": {
   "codemirror_mode": {
    "name": "ipython",
    "version": 3
   },
   "file_extension": ".py",
   "mimetype": "text/x-python",
   "name": "python",
   "nbconvert_exporter": "python",
   "pygments_lexer": "ipython3",
   "version": "3.11.6"
  }
 },
 "nbformat": 4,
 "nbformat_minor": 5
}
