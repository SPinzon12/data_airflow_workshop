{
 "cells": [
  {
   "cell_type": "markdown",
   "id": "70660cf9-8b0d-4022-8af2-58df96e87afd",
   "metadata": {},
   "source": [
    "# Grammy EDA"
   ]
  },
  {
   "cell_type": "code",
   "execution_count": 1,
   "id": "6ee78d7d-5362-4b25-95fb-2fa5685c9cf1",
   "metadata": {},
   "outputs": [],
   "source": [
    "import pandas as pd\n",
    "import seaborn as sns\n",
    "import matplotlib.pyplot as plt\n",
    "import psycopg2\n",
    "import json"
   ]
  },
  {
   "cell_type": "code",
   "execution_count": 2,
   "id": "aee80108-7b7e-4ee6-897f-586eb3c8bdab",
   "metadata": {},
   "outputs": [],
   "source": [
    "def create_connection():\n",
    "    try:\n",
    "        with open('../etl_dag/db_config.json') as file:\n",
    "            config = json.load(file)\n",
    "        cnx = psycopg2.connect(\n",
    "            host='localhost',\n",
    "            user=config[\"user\"],\n",
    "            password=config[\"password\"],\n",
    "            database=config[\"database\"]\n",
    "        )\n",
    "        print('Conexión exitosa!!')\n",
    "    except psycopg2.Error as e:\n",
    "        cnx = None\n",
    "        print('No se puede conectar:', e)\n",
    "    return cnx\n",
    "\n",
    "def run_query(sql):\n",
    "    cnx = create_connection()\n",
    "    cur = cnx.cursor()\n",
    "    cur.execute(sql)\n",
    "    rows = cur.fetchall()\n",
    "    columns = [col[0] for col in cur.description]\n",
    "    df = pd.DataFrame(rows)\n",
    "    df.rename(columns=dict(zip(range(len(columns)), columns)), inplace=True)  \n",
    "    cnx.close()\n",
    "    return df"
   ]
  },
  {
   "cell_type": "markdown",
   "id": "09947cac-5b5c-439b-a0b1-b6543998b785",
   "metadata": {},
   "source": [
    "**Cargar los datos**"
   ]
  },
  {
   "cell_type": "code",
   "execution_count": 3,
   "id": "ea09942e-bb9c-4310-a06d-268ae8e55e9a",
   "metadata": {},
   "outputs": [
    {
     "name": "stdout",
     "output_type": "stream",
     "text": [
      "Conexión exitosa!!\n"
     ]
    }
   ],
   "source": [
    "sql='''SELECT *\n",
    "FROM grammy\n",
    "'''\n",
    "grammy_df = run_query(sql)"
   ]
  },
  {
   "cell_type": "markdown",
   "id": "ff4d0381-619d-49e1-a119-0b84ea13a3d9",
   "metadata": {},
   "source": [
    "**Mostrar las primeras filas del DataFrame**"
   ]
  },
  {
   "cell_type": "code",
   "execution_count": 4,
   "id": "d271514a-3664-4b9e-afa4-e90a97eb5a7d",
   "metadata": {},
   "outputs": [
    {
     "data": {
      "text/html": [
       "<div>\n",
       "<style scoped>\n",
       "    .dataframe tbody tr th:only-of-type {\n",
       "        vertical-align: middle;\n",
       "    }\n",
       "\n",
       "    .dataframe tbody tr th {\n",
       "        vertical-align: top;\n",
       "    }\n",
       "\n",
       "    .dataframe thead th {\n",
       "        text-align: right;\n",
       "    }\n",
       "</style>\n",
       "<table border=\"1\" class=\"dataframe\">\n",
       "  <thead>\n",
       "    <tr style=\"text-align: right;\">\n",
       "      <th></th>\n",
       "      <th>grammy_id</th>\n",
       "      <th>year</th>\n",
       "      <th>title</th>\n",
       "      <th>published_at</th>\n",
       "      <th>updated_at</th>\n",
       "      <th>category</th>\n",
       "      <th>nominee</th>\n",
       "      <th>artist</th>\n",
       "      <th>workers</th>\n",
       "      <th>img</th>\n",
       "      <th>winner</th>\n",
       "    </tr>\n",
       "  </thead>\n",
       "  <tbody>\n",
       "    <tr>\n",
       "      <th>0</th>\n",
       "      <td>1</td>\n",
       "      <td>2019</td>\n",
       "      <td>62nd Annual GRAMMY Awards  (2019)</td>\n",
       "      <td>2020-05-19 05:10:28</td>\n",
       "      <td>2020-05-19 05:10:28</td>\n",
       "      <td>Record Of The Year</td>\n",
       "      <td>Bad Guy</td>\n",
       "      <td>Billie Eilish</td>\n",
       "      <td>Finneas O'Connell, producer; Rob Kinelski &amp; Fi...</td>\n",
       "      <td>https://www.grammy.com/sites/com/files/styles/...</td>\n",
       "      <td>True</td>\n",
       "    </tr>\n",
       "    <tr>\n",
       "      <th>1</th>\n",
       "      <td>2</td>\n",
       "      <td>2019</td>\n",
       "      <td>62nd Annual GRAMMY Awards  (2019)</td>\n",
       "      <td>2020-05-19 05:10:28</td>\n",
       "      <td>2020-05-19 05:10:28</td>\n",
       "      <td>Record Of The Year</td>\n",
       "      <td>Hey, Ma</td>\n",
       "      <td>Bon Iver</td>\n",
       "      <td>BJ Burton, Brad Cook, Chris Messina &amp; Justin V...</td>\n",
       "      <td>https://www.grammy.com/sites/com/files/styles/...</td>\n",
       "      <td>True</td>\n",
       "    </tr>\n",
       "    <tr>\n",
       "      <th>2</th>\n",
       "      <td>3</td>\n",
       "      <td>2019</td>\n",
       "      <td>62nd Annual GRAMMY Awards  (2019)</td>\n",
       "      <td>2020-05-19 05:10:28</td>\n",
       "      <td>2020-05-19 05:10:28</td>\n",
       "      <td>Record Of The Year</td>\n",
       "      <td>7 rings</td>\n",
       "      <td>Ariana Grande</td>\n",
       "      <td>Charles Anderson, Tommy Brown, Michael Foster ...</td>\n",
       "      <td>https://www.grammy.com/sites/com/files/styles/...</td>\n",
       "      <td>True</td>\n",
       "    </tr>\n",
       "    <tr>\n",
       "      <th>3</th>\n",
       "      <td>4</td>\n",
       "      <td>2019</td>\n",
       "      <td>62nd Annual GRAMMY Awards  (2019)</td>\n",
       "      <td>2020-05-19 05:10:28</td>\n",
       "      <td>2020-05-19 05:10:28</td>\n",
       "      <td>Record Of The Year</td>\n",
       "      <td>Hard Place</td>\n",
       "      <td>H.E.R.</td>\n",
       "      <td>Rodney “Darkchild” Jerkins, producer; Joseph H...</td>\n",
       "      <td>https://www.grammy.com/sites/com/files/styles/...</td>\n",
       "      <td>True</td>\n",
       "    </tr>\n",
       "    <tr>\n",
       "      <th>4</th>\n",
       "      <td>5</td>\n",
       "      <td>2019</td>\n",
       "      <td>62nd Annual GRAMMY Awards  (2019)</td>\n",
       "      <td>2020-05-19 05:10:28</td>\n",
       "      <td>2020-05-19 05:10:28</td>\n",
       "      <td>Record Of The Year</td>\n",
       "      <td>Talk</td>\n",
       "      <td>Khalid</td>\n",
       "      <td>Disclosure &amp; Denis Kosiak, producers; Ingmar C...</td>\n",
       "      <td>https://www.grammy.com/sites/com/files/styles/...</td>\n",
       "      <td>True</td>\n",
       "    </tr>\n",
       "  </tbody>\n",
       "</table>\n",
       "</div>"
      ],
      "text/plain": [
       "   grammy_id  year                              title        published_at  \\\n",
       "0          1  2019  62nd Annual GRAMMY Awards  (2019) 2020-05-19 05:10:28   \n",
       "1          2  2019  62nd Annual GRAMMY Awards  (2019) 2020-05-19 05:10:28   \n",
       "2          3  2019  62nd Annual GRAMMY Awards  (2019) 2020-05-19 05:10:28   \n",
       "3          4  2019  62nd Annual GRAMMY Awards  (2019) 2020-05-19 05:10:28   \n",
       "4          5  2019  62nd Annual GRAMMY Awards  (2019) 2020-05-19 05:10:28   \n",
       "\n",
       "           updated_at            category     nominee         artist  \\\n",
       "0 2020-05-19 05:10:28  Record Of The Year     Bad Guy  Billie Eilish   \n",
       "1 2020-05-19 05:10:28  Record Of The Year     Hey, Ma       Bon Iver   \n",
       "2 2020-05-19 05:10:28  Record Of The Year     7 rings  Ariana Grande   \n",
       "3 2020-05-19 05:10:28  Record Of The Year  Hard Place         H.E.R.   \n",
       "4 2020-05-19 05:10:28  Record Of The Year        Talk         Khalid   \n",
       "\n",
       "                                             workers  \\\n",
       "0  Finneas O'Connell, producer; Rob Kinelski & Fi...   \n",
       "1  BJ Burton, Brad Cook, Chris Messina & Justin V...   \n",
       "2  Charles Anderson, Tommy Brown, Michael Foster ...   \n",
       "3  Rodney “Darkchild” Jerkins, producer; Joseph H...   \n",
       "4  Disclosure & Denis Kosiak, producers; Ingmar C...   \n",
       "\n",
       "                                                 img  winner  \n",
       "0  https://www.grammy.com/sites/com/files/styles/...    True  \n",
       "1  https://www.grammy.com/sites/com/files/styles/...    True  \n",
       "2  https://www.grammy.com/sites/com/files/styles/...    True  \n",
       "3  https://www.grammy.com/sites/com/files/styles/...    True  \n",
       "4  https://www.grammy.com/sites/com/files/styles/...    True  "
      ]
     },
     "execution_count": 4,
     "metadata": {},
     "output_type": "execute_result"
    }
   ],
   "source": [
    "grammy_df.head()"
   ]
  },
  {
   "cell_type": "markdown",
   "id": "864d6a7b-6293-4ed9-a06e-b292f36cae33",
   "metadata": {},
   "source": [
    "**Verificar las dimensiones del DataFrame**"
   ]
  },
  {
   "cell_type": "code",
   "execution_count": 5,
   "id": "662762cc-89cf-4c0d-b72c-1a81b4c2c501",
   "metadata": {},
   "outputs": [
    {
     "data": {
      "text/plain": [
       "(4810, 11)"
      ]
     },
     "execution_count": 5,
     "metadata": {},
     "output_type": "execute_result"
    }
   ],
   "source": [
    "grammy_df.shape"
   ]
  },
  {
   "cell_type": "markdown",
   "id": "ce1f4edb-ef1d-4e31-9d3c-8793287fcf27",
   "metadata": {},
   "source": [
    "El tamaño de nuestro conjunto de datos es de 4810 premios con 11 columnas."
   ]
  },
  {
   "cell_type": "markdown",
   "id": "4fadf69d-3f29-46b7-b056-0ffed2ce13d0",
   "metadata": {},
   "source": [
    "**Exploración de Tipos de Datos**"
   ]
  },
  {
   "cell_type": "code",
   "execution_count": 6,
   "id": "0889293b-226a-4ae9-800c-8598d0963220",
   "metadata": {},
   "outputs": [
    {
     "name": "stdout",
     "output_type": "stream",
     "text": [
      "<class 'pandas.core.frame.DataFrame'>\n",
      "RangeIndex: 4810 entries, 0 to 4809\n",
      "Data columns (total 11 columns):\n",
      " #   Column        Non-Null Count  Dtype         \n",
      "---  ------        --------------  -----         \n",
      " 0   grammy_id     4810 non-null   int64         \n",
      " 1   year          4810 non-null   int64         \n",
      " 2   title         4810 non-null   object        \n",
      " 3   published_at  4810 non-null   datetime64[ns]\n",
      " 4   updated_at    4810 non-null   datetime64[ns]\n",
      " 5   category      4810 non-null   object        \n",
      " 6   nominee       4810 non-null   object        \n",
      " 7   artist        4810 non-null   object        \n",
      " 8   workers       4810 non-null   object        \n",
      " 9   img           4810 non-null   object        \n",
      " 10  winner        4810 non-null   bool          \n",
      "dtypes: bool(1), datetime64[ns](2), int64(2), object(6)\n",
      "memory usage: 380.6+ KB\n"
     ]
    }
   ],
   "source": [
    "grammy_df.info()"
   ]
  },
  {
   "cell_type": "markdown",
   "id": "da1efe4a-537a-4391-997b-8bab4e6c75ac",
   "metadata": {},
   "source": [
    "**Investigación de Valores Nulos**"
   ]
  },
  {
   "cell_type": "code",
   "execution_count": 7,
   "id": "23ee27ce-1f92-48da-8f7c-41be0a4e2ea8",
   "metadata": {},
   "outputs": [
    {
     "data": {
      "image/png": "[encoded data removed]",
      "text/plain": [
       "<Figure size 640x480 with 1 Axes>"
      ]
     },
     "metadata": {},
     "output_type": "display_data"
    }
   ],
   "source": [
    "missing_ratios = grammy_df.apply(lambda x: x.astype(str).str.lower() == 'nan').mean()\n",
    "missing_ratios = missing_ratios.sort_values(ascending=False)\n",
    "\n",
    "sns.set_theme()\n",
    "\n",
    "sns.set_color_codes(\"pastel\")\n",
    "sns.barplot(x=missing_ratios, y=missing_ratios.index,\n",
    "            label=\"Tasa de Datos Faltantes\", color=\"red\", alpha=0.5)\n",
    "\n",
    "plt.legend(ncol=1, loc=\"lower right\", frameon=True)\n",
    "plt.xlim(0, 1)\n",
    "plt.xlabel(\"Missing Data Ratio\")\n",
    "plt.ylabel(\"\")\n",
    "plt.title(\"Análisis de Datos Faltantes\")\n",
    "sns.despine(left=True, bottom=True)\n",
    "plt.show()"
   ]
  },
  {
   "cell_type": "markdown",
   "id": "aa4a3d16-5a1d-4cb0-a99e-3a352196f02a",
   "metadata": {},
   "source": [
    "Las columnas workers, artist e img muestran proporciones significativas de valores iguales a 'NaN', lo que sugiere la presencia de datos faltantes en estas columnas. Es probable que necesitemos abordar estos datos faltantes antes de realizar análisis "
   ]
  },
  {
   "cell_type": "markdown",
   "id": "2d8f84ba-c08f-4fc3-9339-3f25d3e97630",
   "metadata": {},
   "source": [
    "**Número de Duplicados en el DataFrame**"
   ]
  },
  {
   "cell_type": "code",
   "execution_count": 8,
   "id": "935ccabd-932f-4413-9f05-b174ba589ea4",
   "metadata": {},
   "outputs": [
    {
     "data": {
      "text/plain": [
       "0"
      ]
     },
     "execution_count": 8,
     "metadata": {},
     "output_type": "execute_result"
    }
   ],
   "source": [
    "grammy_df.duplicated().sum()"
   ]
  },
  {
   "cell_type": "markdown",
   "id": "9c13a78b-d286-4257-88f0-3ea9107d4f22",
   "metadata": {},
   "source": [
    "**winner**"
   ]
  },
  {
   "cell_type": "code",
   "execution_count": 15,
   "id": "5ba0b6b6-ca0f-4e8c-bf86-35dfb9eaf5df",
   "metadata": {},
   "outputs": [
    {
     "data": {
      "text/plain": [
       "array([ True])"
      ]
     },
     "execution_count": 15,
     "metadata": {},
     "output_type": "execute_result"
    }
   ],
   "source": [
    "grammy_df['winner'].unique()"
   ]
  },
  {
   "cell_type": "markdown",
   "id": "c977e1ab-bb70-410b-b9af-3d803f460bf8",
   "metadata": {},
   "source": [
    " Esto implica que todos los registros son ganadores de los premios Grammy."
   ]
  },
  {
   "cell_type": "code",
   "execution_count": 17,
   "id": "68cc0729-3bdc-41ad-ae5b-40e87d417b83",
   "metadata": {},
   "outputs": [
    {
     "data": {
      "text/html": [
       "<div>\n",
       "<style scoped>\n",
       "    .dataframe tbody tr th:only-of-type {\n",
       "        vertical-align: middle;\n",
       "    }\n",
       "\n",
       "    .dataframe tbody tr th {\n",
       "        vertical-align: top;\n",
       "    }\n",
       "\n",
       "    .dataframe thead th {\n",
       "        text-align: right;\n",
       "    }\n",
       "</style>\n",
       "<table border=\"1\" class=\"dataframe\">\n",
       "  <thead>\n",
       "    <tr style=\"text-align: right;\">\n",
       "      <th></th>\n",
       "      <th>year</th>\n",
       "      <th>category</th>\n",
       "      <th>nominee</th>\n",
       "      <th>winner</th>\n",
       "    </tr>\n",
       "  </thead>\n",
       "  <tbody>\n",
       "    <tr>\n",
       "      <th>0</th>\n",
       "      <td>2019</td>\n",
       "      <td>Record Of The Year</td>\n",
       "      <td>Bad Guy</td>\n",
       "      <td>True</td>\n",
       "    </tr>\n",
       "    <tr>\n",
       "      <th>1</th>\n",
       "      <td>2019</td>\n",
       "      <td>Record Of The Year</td>\n",
       "      <td>Hey, Ma</td>\n",
       "      <td>True</td>\n",
       "    </tr>\n",
       "  </tbody>\n",
       "</table>\n",
       "</div>"
      ],
      "text/plain": [
       "   year            category  nominee  winner\n",
       "0  2019  Record Of The Year  Bad Guy    True\n",
       "1  2019  Record Of The Year  Hey, Ma    True"
      ]
     },
     "execution_count": 17,
     "metadata": {},
     "output_type": "execute_result"
    }
   ],
   "source": [
    "grammy_df[['year','category','nominee','winner']].head(2)"
   ]
  },
  {
   "cell_type": "markdown",
   "id": "4caed28f-1346-46c3-90fa-dbe0b1cf869e",
   "metadata": {},
   "source": [
    "Se pueden observar registros en los que varios nominados en una misma categoría han sido etiquetados como ganadores de los premios Grammy. En lugar de considerarlos ganadores, es más apropiado considerarlos como nominados a los premios Grammy. "
   ]
  },
  {
   "cell_type": "markdown",
   "id": "7a0bd3f6-5d8c-4f41-b1ca-00724d5fe93f",
   "metadata": {},
   "source": [
    "**category**"
   ]
  },
  {
   "cell_type": "code",
   "execution_count": 20,
   "id": "8b4a04f5-4c5a-426f-a175-9640fe96a87f",
   "metadata": {},
   "outputs": [
    {
     "data": {
      "text/plain": [
       "638"
      ]
     },
     "execution_count": 20,
     "metadata": {},
     "output_type": "execute_result"
    }
   ],
   "source": [
    "grammy_df['category'].nunique()"
   ]
  },
  {
   "cell_type": "markdown",
   "id": "6cdd5231-7d48-44b5-b800-1cca0f85bf2d",
   "metadata": {},
   "source": [
    "Se han identificado un total de 638 categorías en los premios Grammy, lo que representa un número significativamente elevado para intentar una clasificación detallada."
   ]
  },
  {
   "cell_type": "code",
   "execution_count": 21,
   "id": "9086e66d-11d3-4578-bc94-5e90ce1f233c",
   "metadata": {},
   "outputs": [
    {
     "data": {
      "text/plain": [
       "category\n",
       "Song Of The Year                                                   70\n",
       "Record Of The Year                                                 69\n",
       "Album Of The Year                                                  66\n",
       "Best Opera Recording                                               64\n",
       "Best Album Notes                                                   63\n",
       "                                                                   ..\n",
       "Best Sacred Performance (Musical)                                   1\n",
       "Best Jazz Performance - Small Group Or Soloist With Small Group     1\n",
       "Best Jazz Performance - Large Group Or Soloist With Large Group     1\n",
       "Best Contemporary Vocal Performance By A Group                      1\n",
       "Best Classical Performance - Operatic Or Choral                     1\n",
       "Name: count, Length: 638, dtype: int64"
      ]
     },
     "execution_count": 21,
     "metadata": {},
     "output_type": "execute_result"
    }
   ],
   "source": [
    "grammy_df['category'].value_counts()"
   ]
  },
  {
   "cell_type": "markdown",
   "id": "9baddcca-cbc4-43b2-b4bd-9c10cd3a3b76",
   "metadata": {},
   "source": [
    "**artist**"
   ]
  },
  {
   "cell_type": "code",
   "execution_count": 44,
   "id": "f3f8a41c-14b0-43ca-851f-4bc7f6b7c4f2",
   "metadata": {},
   "outputs": [
    {
     "data": {
      "text/html": [
       "<div>\n",
       "<style scoped>\n",
       "    .dataframe tbody tr th:only-of-type {\n",
       "        vertical-align: middle;\n",
       "    }\n",
       "\n",
       "    .dataframe tbody tr th {\n",
       "        vertical-align: top;\n",
       "    }\n",
       "\n",
       "    .dataframe thead th {\n",
       "        text-align: right;\n",
       "    }\n",
       "</style>\n",
       "<table border=\"1\" class=\"dataframe\">\n",
       "  <thead>\n",
       "    <tr style=\"text-align: right;\">\n",
       "      <th></th>\n",
       "      <th>artist</th>\n",
       "      <th>nominee</th>\n",
       "      <th>category</th>\n",
       "    </tr>\n",
       "  </thead>\n",
       "  <tbody>\n",
       "    <tr>\n",
       "      <th>690</th>\n",
       "      <td>NaN</td>\n",
       "      <td>Dutilleux: Sur Le Même Accord; Les Citations; ...</td>\n",
       "      <td>Best Surround Sound Album</td>\n",
       "    </tr>\n",
       "    <tr>\n",
       "      <th>347</th>\n",
       "      <td>NaN</td>\n",
       "      <td>The Radio Recordings 1939–1945</td>\n",
       "      <td>Best Boxed Or Special Limited Edition Package</td>\n",
       "    </tr>\n",
       "    <tr>\n",
       "      <th>2285</th>\n",
       "      <td>NaN</td>\n",
       "      <td>Steven Epstein</td>\n",
       "      <td>Producer Of The Year, Classical</td>\n",
       "    </tr>\n",
       "    <tr>\n",
       "      <th>2381</th>\n",
       "      <td>NaN</td>\n",
       "      <td>NaN</td>\n",
       "      <td>Remixer Of The Year, Non-Classical</td>\n",
       "    </tr>\n",
       "  </tbody>\n",
       "</table>\n",
       "</div>"
      ],
      "text/plain": [
       "     artist                                            nominee  \\\n",
       "690     NaN  Dutilleux: Sur Le Même Accord; Les Citations; ...   \n",
       "347     NaN                     The Radio Recordings 1939–1945   \n",
       "2285    NaN                                     Steven Epstein   \n",
       "2381    NaN                                                NaN   \n",
       "\n",
       "                                           category  \n",
       "690                       Best Surround Sound Album  \n",
       "347   Best Boxed Or Special Limited Edition Package  \n",
       "2285                Producer Of The Year, Classical  \n",
       "2381             Remixer Of The Year, Non-Classical  "
      ]
     },
     "execution_count": 44,
     "metadata": {},
     "output_type": "execute_result"
    }
   ],
   "source": [
    "grammy_df[grammy_df['artist'].str.contains('NaN', na=False)][['artist', 'nominee', 'category']].sample(4)"
   ]
  },
  {
   "cell_type": "markdown",
   "id": "3718e0f0-dfeb-469f-818b-c02f3be39894",
   "metadata": {},
   "source": [
    "Se puede observar que la presencia de 'NAN' en la columna pueda estar relacionada con la categoría del premio."
   ]
  },
  {
   "cell_type": "markdown",
   "id": "55e3a6d5-ab82-4e81-bed5-324e1c3fed44",
   "metadata": {},
   "source": [
    "**nominee**"
   ]
  },
  {
   "cell_type": "code",
   "execution_count": 54,
   "id": "9c2afbc1-2bab-4834-b6c6-18548f7852a7",
   "metadata": {},
   "outputs": [
    {
     "data": {
      "text/html": [
       "<div>\n",
       "<style scoped>\n",
       "    .dataframe tbody tr th:only-of-type {\n",
       "        vertical-align: middle;\n",
       "    }\n",
       "\n",
       "    .dataframe tbody tr th {\n",
       "        vertical-align: top;\n",
       "    }\n",
       "\n",
       "    .dataframe thead th {\n",
       "        text-align: right;\n",
       "    }\n",
       "</style>\n",
       "<table border=\"1\" class=\"dataframe\">\n",
       "  <thead>\n",
       "    <tr style=\"text-align: right;\">\n",
       "      <th></th>\n",
       "      <th>nominee</th>\n",
       "      <th>category</th>\n",
       "    </tr>\n",
       "  </thead>\n",
       "  <tbody>\n",
       "    <tr>\n",
       "      <th>776</th>\n",
       "      <td>Uptown Funk (Dave Audé Remix)</td>\n",
       "      <td>Best Remixed Recording</td>\n",
       "    </tr>\n",
       "    <tr>\n",
       "      <th>2960</th>\n",
       "      <td>Sneakin' Around</td>\n",
       "      <td>Best Country Instrumental Performance</td>\n",
       "    </tr>\n",
       "    <tr>\n",
       "      <th>898</th>\n",
       "      <td>The Heist</td>\n",
       "      <td>Best Rap Album</td>\n",
       "    </tr>\n",
       "    <tr>\n",
       "      <th>2267</th>\n",
       "      <td>Harry Potter And The Goblet Of Fire</td>\n",
       "      <td>Best Spoken Word Album for Children</td>\n",
       "    </tr>\n",
       "    <tr>\n",
       "      <th>363</th>\n",
       "      <td>Finneas</td>\n",
       "      <td>Producer Of The Year, Non-Classical</td>\n",
       "    </tr>\n",
       "  </tbody>\n",
       "</table>\n",
       "</div>"
      ],
      "text/plain": [
       "                                  nominee  \\\n",
       "776         Uptown Funk (Dave Audé Remix)   \n",
       "2960                      Sneakin' Around   \n",
       "898                             The Heist   \n",
       "2267  Harry Potter And The Goblet Of Fire   \n",
       "363                               Finneas   \n",
       "\n",
       "                                   category  \n",
       "776                  Best Remixed Recording  \n",
       "2960  Best Country Instrumental Performance  \n",
       "898                          Best Rap Album  \n",
       "2267    Best Spoken Word Album for Children  \n",
       "363     Producer Of The Year, Non-Classical  "
      ]
     },
     "execution_count": 54,
     "metadata": {},
     "output_type": "execute_result"
    }
   ],
   "source": [
    "grammy_df[['nominee', 'category']].sample(5)"
   ]
  },
  {
   "cell_type": "markdown",
   "id": "d203e43d-dea6-4044-9d0e-0216b449d594",
   "metadata": {},
   "source": [
    "Entre los nominados en los premios Grammy, se incluyen una variedad de categorías que abarcan canciones, artistas, productores y álbumes. "
   ]
  }
 ],
 "metadata": {
  "kernelspec": {
   "display_name": "Python 3 (ipykernel)",
   "language": "python",
   "name": "python3"
  },
  "language_info": {
   "codemirror_mode": {
    "name": "ipython",
    "version": 3
   },
   "file_extension": ".py",
   "mimetype": "text/x-python",
   "name": "python",
   "nbconvert_exporter": "python",
   "pygments_lexer": "ipython3",
   "version": "3.11.6"
  }
 },
 "nbformat": 4,
 "nbformat_minor": 5
}
